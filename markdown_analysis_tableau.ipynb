{
 "cells": [
  {
   "cell_type": "markdown",
   "id": "deb6cf3d",
   "metadata": {},
   "source": [
    "The purpose of this analysis is to explore trends in the Citibike program for September 2022 - September 2023. The analysis uses a tableau story with a map and two dashboards to visually explore the data by exploring the geographical relationship of ride usage, the different usage patterns between members and non-members, and the usage of bikes for purposes of maintenance. These analyses were all consolidated into a Tableau Story, which is described below.\n",
    "\n",
    "\n"
   ]
  },
  {
   "cell_type": "markdown",
   "id": "a308e712",
   "metadata": {},
   "source": [
    "The story starts out with a map showing the ride count by station over time, while being filterable on rideable type and specific dates. This dashboard shows that ride usage is concentrated heavily in the fall and summer months along the west coast of the Hudson, in Jersey. The map also shows that there is relatively limited use in Manhattan compared to Jersey. These differences in ridership between the areas can be caused by a different number of bikes in each area, as well as the general accessibility of the roads to bikes and availability of other forms of transportation that would remove the need for bikes.\n"
   ]
  },
  {
   "cell_type": "markdown",
   "id": "7b16b903",
   "metadata": {},
   "source": [
    "The second part of the story start to explore the relationship between membership status and riding behaviors with a dashboard. The dashboard first looks at ride count over the year, split by membership type. The graphs shows that Members utilize the bike program in much higher numbers than casual members and that general usage of the bikes peaks in the summer and fall months. Additionally, it can be seen that the lines remain relatively parallel for between casual and member memberships, indicating that there isn't a difference caused by seasonality between the two membership types. The next visualization shows the average ride length in mins by membership type. The data shows that on average, the casual riders take longer rides as the distribution of percentage of rides for each ride duration is skewed to the right compared to the member's. The last graph shows which stations bikes travel the furthest broken out my membership type. This graph could be useful to determine the allocation of resources to stations based off their membership type and usage."
   ]
  },
  {
   "cell_type": "markdown",
   "id": "43e6992c",
   "metadata": {},
   "source": [
    "The third page of the story shows the breakout of the bike usage by bike type and bike membership. The graph shows that the classic bike is the most popular among casual and member riders. Additionally, it shows that docked bikes are only used by casual riders and that a casual rider is more likely to ride an electric bike than other types compared to members."
   ]
  },
  {
   "cell_type": "markdown",
   "id": "11c0f024",
   "metadata": {},
   "source": [
    "The fourth page of the story is a dashboard designed to help identify bike ids, locations, and weeks where bikes have the highest usage. These images help to discern the usage patterns and the optimal cohort of bikes to subject to maintenance, as well the time of the year that would be optimal to service the bikes. The first graph shows the distribution of bikes in riding distance over the year, which could be a useful proxy of bikes that need service. This graph shows that classic bikes might need more service and if a box and whisker plot with quartiles is applied, outliers can be identified to help identify bikes that need to fix. The Ride distance map shows that people who take long rides tend to end along the west coast of the Hudson. This can show that bikes along the river need higher maintenance needs than other bikes in the city. While the last graph shows that the optimal time potentially perform maintenance on the bikes is in the months of December to February."
   ]
  },
  {
   "cell_type": "code",
   "execution_count": null,
   "id": "aa6dd242",
   "metadata": {},
   "outputs": [],
   "source": []
  }
 ],
 "metadata": {
  "kernelspec": {
   "display_name": "Python 3 (ipykernel)",
   "language": "python",
   "name": "python3"
  },
  "language_info": {
   "codemirror_mode": {
    "name": "ipython",
    "version": 3
   },
   "file_extension": ".py",
   "mimetype": "text/x-python",
   "name": "python",
   "nbconvert_exporter": "python",
   "pygments_lexer": "ipython3",
   "version": "3.10.13"
  }
 },
 "nbformat": 4,
 "nbformat_minor": 5
}
