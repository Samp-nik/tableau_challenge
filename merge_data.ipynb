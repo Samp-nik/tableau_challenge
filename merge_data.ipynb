{
 "cells": [
  {
   "cell_type": "code",
   "execution_count": 1,
   "id": "1ae89d8b",
   "metadata": {},
   "outputs": [],
   "source": [
    "import pandas as pd\n",
    "from pathlib import Path"
   ]
  },
  {
   "cell_type": "code",
   "execution_count": 2,
   "id": "3b4ce16d",
   "metadata": {},
   "outputs": [
    {
     "data": {
      "text/plain": [
       "PosixPath('.')"
      ]
     },
     "execution_count": 2,
     "metadata": {},
     "output_type": "execute_result"
    }
   ],
   "source": [
    "Path()"
   ]
  },
  {
   "cell_type": "code",
   "execution_count": 3,
   "id": "91fa7412",
   "metadata": {},
   "outputs": [],
   "source": [
    "files = Path(\"raw_data/\")\n",
    "data = pd.DataFrame()\n",
    "z=0\n",
    "for file in files.iterdir():\n",
    "    obj = pd.read_csv(file)\n",
    "    if data.empty:\n",
    "        data = obj\n",
    "    else:\n",
    "        data = pd.concat([data,obj],ignore_index = True)\n",
    "    \n",
    "    "
   ]
  },
  {
   "cell_type": "code",
   "execution_count": 4,
   "id": "54bb9aff",
   "metadata": {},
   "outputs": [
    {
     "data": {
      "text/html": [
       "<div>\n",
       "<style scoped>\n",
       "    .dataframe tbody tr th:only-of-type {\n",
       "        vertical-align: middle;\n",
       "    }\n",
       "\n",
       "    .dataframe tbody tr th {\n",
       "        vertical-align: top;\n",
       "    }\n",
       "\n",
       "    .dataframe thead th {\n",
       "        text-align: right;\n",
       "    }\n",
       "</style>\n",
       "<table border=\"1\" class=\"dataframe\">\n",
       "  <thead>\n",
       "    <tr style=\"text-align: right;\">\n",
       "      <th></th>\n",
       "      <th>ride_id</th>\n",
       "      <th>rideable_type</th>\n",
       "      <th>started_at</th>\n",
       "      <th>ended_at</th>\n",
       "      <th>start_station_name</th>\n",
       "      <th>start_station_id</th>\n",
       "      <th>end_station_name</th>\n",
       "      <th>end_station_id</th>\n",
       "      <th>start_lat</th>\n",
       "      <th>start_lng</th>\n",
       "      <th>end_lat</th>\n",
       "      <th>end_lng</th>\n",
       "      <th>member_casual</th>\n",
       "    </tr>\n",
       "  </thead>\n",
       "  <tbody>\n",
       "    <tr>\n",
       "      <th>0</th>\n",
       "      <td>E2E964A161F786AB</td>\n",
       "      <td>classic_bike</td>\n",
       "      <td>2023-08-07 19:37:47</td>\n",
       "      <td>2023-08-07 19:41:14</td>\n",
       "      <td>6 St &amp; Grand St</td>\n",
       "      <td>HB302</td>\n",
       "      <td>Madison St &amp; 10 St</td>\n",
       "      <td>HB503</td>\n",
       "      <td>40.744398</td>\n",
       "      <td>-74.034501</td>\n",
       "      <td>40.749943</td>\n",
       "      <td>-74.035865</td>\n",
       "      <td>member</td>\n",
       "    </tr>\n",
       "    <tr>\n",
       "      <th>1</th>\n",
       "      <td>0660F2E48E3BB87F</td>\n",
       "      <td>classic_bike</td>\n",
       "      <td>2023-08-01 13:16:22</td>\n",
       "      <td>2023-08-01 13:26:02</td>\n",
       "      <td>6 St &amp; Grand St</td>\n",
       "      <td>HB302</td>\n",
       "      <td>6 St &amp; Grand St</td>\n",
       "      <td>HB302</td>\n",
       "      <td>40.744398</td>\n",
       "      <td>-74.034501</td>\n",
       "      <td>40.744398</td>\n",
       "      <td>-74.034501</td>\n",
       "      <td>member</td>\n",
       "    </tr>\n",
       "    <tr>\n",
       "      <th>2</th>\n",
       "      <td>940FC7C675232897</td>\n",
       "      <td>classic_bike</td>\n",
       "      <td>2023-08-15 17:28:23</td>\n",
       "      <td>2023-08-15 17:50:35</td>\n",
       "      <td>Heights Elevator</td>\n",
       "      <td>JC059</td>\n",
       "      <td>Heights Elevator</td>\n",
       "      <td>JC059</td>\n",
       "      <td>40.748721</td>\n",
       "      <td>-74.040480</td>\n",
       "      <td>40.748716</td>\n",
       "      <td>-74.040443</td>\n",
       "      <td>member</td>\n",
       "    </tr>\n",
       "    <tr>\n",
       "      <th>3</th>\n",
       "      <td>E967660CC5CD585B</td>\n",
       "      <td>classic_bike</td>\n",
       "      <td>2023-08-01 12:44:24</td>\n",
       "      <td>2023-08-01 12:49:45</td>\n",
       "      <td>Hoboken Ave at Monmouth St</td>\n",
       "      <td>JC105</td>\n",
       "      <td>Hoboken Terminal - River St &amp; Hudson Pl</td>\n",
       "      <td>HB102</td>\n",
       "      <td>40.735279</td>\n",
       "      <td>-74.046830</td>\n",
       "      <td>40.736068</td>\n",
       "      <td>-74.029127</td>\n",
       "      <td>member</td>\n",
       "    </tr>\n",
       "    <tr>\n",
       "      <th>4</th>\n",
       "      <td>D997CB0B855FE2D6</td>\n",
       "      <td>classic_bike</td>\n",
       "      <td>2023-08-08 12:31:16</td>\n",
       "      <td>2023-08-08 12:40:18</td>\n",
       "      <td>Hoboken Ave at Monmouth St</td>\n",
       "      <td>JC105</td>\n",
       "      <td>Hoboken Terminal - River St &amp; Hudson Pl</td>\n",
       "      <td>HB102</td>\n",
       "      <td>40.735208</td>\n",
       "      <td>-74.046964</td>\n",
       "      <td>40.736068</td>\n",
       "      <td>-74.029127</td>\n",
       "      <td>member</td>\n",
       "    </tr>\n",
       "  </tbody>\n",
       "</table>\n",
       "</div>"
      ],
      "text/plain": [
       "            ride_id rideable_type           started_at             ended_at  \\\n",
       "0  E2E964A161F786AB  classic_bike  2023-08-07 19:37:47  2023-08-07 19:41:14   \n",
       "1  0660F2E48E3BB87F  classic_bike  2023-08-01 13:16:22  2023-08-01 13:26:02   \n",
       "2  940FC7C675232897  classic_bike  2023-08-15 17:28:23  2023-08-15 17:50:35   \n",
       "3  E967660CC5CD585B  classic_bike  2023-08-01 12:44:24  2023-08-01 12:49:45   \n",
       "4  D997CB0B855FE2D6  classic_bike  2023-08-08 12:31:16  2023-08-08 12:40:18   \n",
       "\n",
       "           start_station_name start_station_id  \\\n",
       "0             6 St & Grand St            HB302   \n",
       "1             6 St & Grand St            HB302   \n",
       "2            Heights Elevator            JC059   \n",
       "3  Hoboken Ave at Monmouth St            JC105   \n",
       "4  Hoboken Ave at Monmouth St            JC105   \n",
       "\n",
       "                          end_station_name end_station_id  start_lat  \\\n",
       "0                       Madison St & 10 St          HB503  40.744398   \n",
       "1                          6 St & Grand St          HB302  40.744398   \n",
       "2                         Heights Elevator          JC059  40.748721   \n",
       "3  Hoboken Terminal - River St & Hudson Pl          HB102  40.735279   \n",
       "4  Hoboken Terminal - River St & Hudson Pl          HB102  40.735208   \n",
       "\n",
       "   start_lng    end_lat    end_lng member_casual  \n",
       "0 -74.034501  40.749943 -74.035865        member  \n",
       "1 -74.034501  40.744398 -74.034501        member  \n",
       "2 -74.040480  40.748716 -74.040443        member  \n",
       "3 -74.046830  40.736068 -74.029127        member  \n",
       "4 -74.046964  40.736068 -74.029127        member  "
      ]
     },
     "execution_count": 4,
     "metadata": {},
     "output_type": "execute_result"
    }
   ],
   "source": [
    "data.head()"
   ]
  },
  {
   "cell_type": "code",
   "execution_count": 5,
   "id": "30eff803",
   "metadata": {},
   "outputs": [],
   "source": [
    "data['started_at'] = pd.to_datetime(data['started_at'])"
   ]
  },
  {
   "cell_type": "code",
   "execution_count": 6,
   "id": "44bdc434",
   "metadata": {},
   "outputs": [],
   "source": [
    "data['ended_at'] = pd.to_datetime(data['ended_at'])"
   ]
  },
  {
   "cell_type": "code",
   "execution_count": 7,
   "id": "78329aa4",
   "metadata": {},
   "outputs": [],
   "source": [
    "data.to_csv('merged_data.csv')"
   ]
  },
  {
   "cell_type": "code",
   "execution_count": null,
   "id": "e9730857",
   "metadata": {},
   "outputs": [],
   "source": []
  }
 ],
 "metadata": {
  "kernelspec": {
   "display_name": "Python 3 (ipykernel)",
   "language": "python",
   "name": "python3"
  },
  "language_info": {
   "codemirror_mode": {
    "name": "ipython",
    "version": 3
   },
   "file_extension": ".py",
   "mimetype": "text/x-python",
   "name": "python",
   "nbconvert_exporter": "python",
   "pygments_lexer": "ipython3",
   "version": "3.10.13"
  }
 },
 "nbformat": 4,
 "nbformat_minor": 5
}
